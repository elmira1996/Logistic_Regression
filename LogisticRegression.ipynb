{
 "cells": [
  {
   "cell_type": "code",
   "execution_count": 2,
   "id": "873c5e64-bb92-4294-8c13-440d1551aaa6",
   "metadata": {},
   "outputs": [],
   "source": [
    "import numpy as np\n",
    "from sklearn.datasets import load_breast_cancer\n",
    "from sklearn.model_selection import train_test_split\n",
    "from sklearn.preprocessing import StandardScaler"
   ]
  },
  {
   "cell_type": "markdown",
   "id": "a1723706-8904-47e0-a78d-b3af64655883",
   "metadata": {
    "tags": []
   },
   "source": [
    "### load and preprocess dataset"
   ]
  },
  {
   "cell_type": "code",
   "execution_count": 49,
   "id": "b95a2b7d-241b-4ea5-8877-da38cd0c6cdc",
   "metadata": {},
   "outputs": [],
   "source": [
    "data = load_breast_cancer(return_X_y=True)\n",
    "\n",
    "# add a column with value 1 for w0 as the firs column\n",
    "X = np.hstack((np.ones((len(y), 1)), X))\n",
    "X = StandardScaler().fit_transform(X)"
   ]
  },
  {
   "cell_type": "code",
   "execution_count": 50,
   "id": "f408225d-fd98-4e3a-be1b-070ca426bb9f",
   "metadata": {},
   "outputs": [],
   "source": [
    "# split the data into training and testing sets\n",
    "X_train, X_test, y_train, y_test = train_test_split(X, y, test_size=0.2, random_state=42)"
   ]
  },
  {
   "cell_type": "markdown",
   "id": "9f9b173e-59e0-4a79-99c1-f2838c9a31e0",
   "metadata": {},
   "source": [
    "### Building A Logistic Regression in Python"
   ]
  },
  {
   "cell_type": "code",
   "execution_count": 51,
   "id": "7208f737-b600-4298-acf6-7c8718da716c",
   "metadata": {},
   "outputs": [],
   "source": [
    "class LogisticRegression:\n",
    "    \n",
    "    def __init__(self, learning_rate=0.01, num_iterations=1000):\n",
    "        self.learning_rate = learning_rate\n",
    "        self.num_iterations = num_iterations\n",
    "        self.weights = None\n",
    "        \n",
    "    def fit(self, X, y):\n",
    "        num_samples, num_features = X.shape\n",
    "        \n",
    "        # Initialize weights and bias\n",
    "        self.weights = np.zeros(num_features)\n",
    "        \n",
    "        # Gradient Descent\n",
    "        for _ in range(self.num_iterations):\n",
    "            linear_model = np.dot(X, self.weights)\n",
    "            y_predicted = self.sigmoid(linear_model)\n",
    "            \n",
    "        # Update weights and bias using gradient descent\n",
    "        dw = (1 / num_samples) * np.dot(X.T, (y_predicted - y))\n",
    "        self.weights -= self.learning_rate * dw\n",
    "        \n",
    "    def predict(self, X):\n",
    "        linear_model = np.dot(X, self.weights)\n",
    "        y_predicted = self.sigmoid(linear_model)\n",
    "        y_predicted_cls = [1 if p > 0.5 else 0 for p in y_predicted]\n",
    "        return y_predicted_cls\n",
    "    @staticmethod\n",
    "    def sigmoid(x):\n",
    "        return 1 / (1 + np.exp(-x))"
   ]
  },
  {
   "cell_type": "code",
   "execution_count": 52,
   "id": "1d0cc87b-8025-4b3f-8644-be48836d1dab",
   "metadata": {},
   "outputs": [],
   "source": [
    "model = LogisticRegression()"
   ]
  },
  {
   "cell_type": "code",
   "execution_count": 53,
   "id": "d1f222a0-eebb-444b-9bef-4d784b9be564",
   "metadata": {},
   "outputs": [],
   "source": [
    "# fit the training data\n",
    "model.fit(X_train, y_train)"
   ]
  },
  {
   "cell_type": "code",
   "execution_count": 54,
   "id": "6e281e57-be46-4bc8-b22e-960d47fec8d3",
   "metadata": {},
   "outputs": [],
   "source": [
    "# Predict the lablesfor the testing data\n",
    "y_pred = model.predict(X_test)"
   ]
  },
  {
   "cell_type": "code",
   "execution_count": 55,
   "id": "0912ce5b-7373-4b55-940a-c414f9f23e1a",
   "metadata": {},
   "outputs": [
    {
     "name": "stdout",
     "output_type": "stream",
     "text": [
      "accuracy = 0.9649122807017544\n"
     ]
    }
   ],
   "source": [
    "# Evaluate the model\n",
    "accuracy = np.mean(y_pred == y_test)\n",
    "print(f\"accuracy = {accuracy}\")"
   ]
  },
  {
   "cell_type": "markdown",
   "id": "c4768920-d277-4884-91a5-f623ef07fb47",
   "metadata": {},
   "source": [
    "## SKLearn Logistic Regression"
   ]
  },
  {
   "cell_type": "code",
   "execution_count": 56,
   "id": "60367386-d697-4e75-a1da-4a76baad788c",
   "metadata": {},
   "outputs": [],
   "source": [
    "from sklearn.linear_model import LogisticRegression as SKLogisticRegression\n",
    "from sklearn.metrics import accuracy_score"
   ]
  },
  {
   "cell_type": "code",
   "execution_count": 57,
   "id": "93846f4c-2515-4a1c-93d7-d0ea7052a205",
   "metadata": {},
   "outputs": [
    {
     "data": {
      "text/plain": [
       "LogisticRegression()"
      ]
     },
     "execution_count": 57,
     "metadata": {},
     "output_type": "execute_result"
    }
   ],
   "source": [
    "# Create an instance and fit the training data\n",
    "SKmodel = SKLogisticRegression()\n",
    "SKmodel.fit(X_train, y_train)"
   ]
  },
  {
   "cell_type": "code",
   "execution_count": 58,
   "id": "f90e4e95-b1bb-4dcc-8e29-a39171ac3f71",
   "metadata": {},
   "outputs": [],
   "source": [
    "# Predict the labels for the testing set\n",
    "SKy_pred = SKmodel.predict(X_test)"
   ]
  },
  {
   "cell_type": "code",
   "execution_count": 59,
   "id": "766d3c3e-4ce7-4550-908a-fed6b727b4af",
   "metadata": {},
   "outputs": [
    {
     "data": {
      "text/plain": [
       "0.9736842105263158"
      ]
     },
     "execution_count": 59,
     "metadata": {},
     "output_type": "execute_result"
    }
   ],
   "source": [
    "# Getting the accuracy of model\n",
    "accuracy_score(y_test, SKy_pred)"
   ]
  },
  {
   "cell_type": "code",
   "execution_count": null,
   "id": "aafef12b-915e-4c80-8fed-aa53c52c9a42",
   "metadata": {},
   "outputs": [],
   "source": []
  }
 ],
 "metadata": {
  "kernelspec": {
   "display_name": "Python 3 (ipykernel)",
   "language": "python",
   "name": "python3"
  },
  "language_info": {
   "codemirror_mode": {
    "name": "ipython",
    "version": 3
   },
   "file_extension": ".py",
   "mimetype": "text/x-python",
   "name": "python",
   "nbconvert_exporter": "python",
   "pygments_lexer": "ipython3",
   "version": "3.9.7"
  }
 },
 "nbformat": 4,
 "nbformat_minor": 5
}
